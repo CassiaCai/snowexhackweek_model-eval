{
 "cells": [
  {
   "cell_type": "markdown",
   "id": "c200cbb8-eb68-46d8-b674-9b59d48e97a1",
   "metadata": {},
   "source": [
    "# SnowEx SWE and Depth\n",
    "### SWE from LayerData & SWE and Depth from PointData\n",
    "In this Jupyter Notebook, we save SWE and depth data from the SnowEx database. From the LayerData class, we calculate SWE following the linked resource. We save the different dates when measurements are available. Next, from the PointData class, given the number of available measurements, we save every 1000th record.  "
   ]
  },
  {
   "cell_type": "code",
   "execution_count": null,
   "id": "633b00a7-0a4f-4f3e-9758-29aae27a2a47",
   "metadata": {},
   "outputs": [],
   "source": [
    "from snowexsql.db import get_db # Import the function to get connect to the db\n",
    "from snowexsql.conversions import query_to_geopandas # Import a useful function to format that data into a dataframe \n",
    "from datetime import date # Import some tools to build dates\n",
    "\n",
    "from snowexsql.data import PointData # Import our class for the points table\n",
    "from snowexsql.data import LayerData # Import our LayerData\n",
    "\n",
    "import matplotlib.pyplot as plt\n",
    "\n",
    "from geoalchemy2.shape import to_shape\n",
    "import pandas as pd\n",
    "import numpy as np"
   ]
  },
  {
   "cell_type": "code",
   "execution_count": null,
   "id": "4336f321-75d1-4224-99a0-899be96b9481",
   "metadata": {},
   "outputs": [],
   "source": [
    "# Connect to the database\n",
    "db_name = 'snow:hackweek@db.snowexdata.org/snowex' # This is what you will use for all of hackweek to access the db\n",
    "engine, session = get_db(db_name)"
   ]
  },
  {
   "cell_type": "markdown",
   "id": "03d3db82-6aa6-4934-9273-fdea634824fb",
   "metadata": {},
   "source": [
    "#### LayerData"
   ]
  },
  {
   "cell_type": "markdown",
   "id": "d4731001-b3ec-4d48-88c0-e38ea5afcea6",
   "metadata": {},
   "source": [
    "A resource to calculate SWE: https://snowexsql.readthedocs.io/en/latest/gallery/plot_pit_swe_example.html"
   ]
  },
  {
   "cell_type": "code",
   "execution_count": 1,
   "id": "314a9a5a-b512-4715-87e1-0a07b976f089",
   "metadata": {},
   "outputs": [],
   "source": [
    "q = session.query(LayerData).filter(LayerData.type == 'density')\n",
    "df = query_to_geopandas(q, engine)\n",
    "\n",
    "# Convert density to float\n",
    "df['value'] = df['value'].astype(float)\n",
    "\n",
    "# Calculate SWE\n",
    "swe_lambda = lambda row: row['value'] * (row['depth'] - row['bottom_depth']) / 100\n",
    "df['swe'] = df.apply(swe_lambda, axis=1)"
   ]
  },
  {
   "cell_type": "code",
   "execution_count": 2,
   "id": "41168657-42e9-42be-a153-4838bf395af9",
   "metadata": {
    "tags": []
   },
   "outputs": [],
   "source": [
    "sites = df['site_id'].unique().tolist()\n",
    "\n",
    "# Loop over data by site and date\n",
    "swe_values = []\n",
    "x_values = []\n",
    "y_values = []\n",
    "dates_list = []\n",
    "\n",
    "for site in sites:\n",
    "    ind1 = df['site_id'] == site\n",
    "    dates = df['date'][ind1].unique().tolist()\n",
    "\n",
    "    for date in dates:\n",
    "        # Grab all density at this site and date\n",
    "        ind2= df['date'] == date\n",
    "\n",
    "        profile = df[ind1 & ind2]\n",
    "        # Check if there is data on this date/site\n",
    "        if len(profile.index) > 0:\n",
    "            swe_values.append(profile['swe'].sum())\n",
    "            x_values.append(profile['geom'].iloc[0].x)\n",
    "            y_values.append(profile['geom'].iloc[0].y)\n",
    "            dates_list.append(date)"
   ]
  },
  {
   "cell_type": "code",
   "execution_count": 3,
   "id": "cec5d593-8560-44aa-9154-2a6fd3b3ac75",
   "metadata": {
    "tags": []
   },
   "outputs": [],
   "source": [
    "df = pd.DataFrame(list(zip(swe_values, x_values, y_values, dates_list)),\n",
    "               columns =['swe', 'x', 'y', 'date'])"
   ]
  },
  {
   "cell_type": "code",
   "execution_count": 4,
   "id": "a18be5ae-a487-4694-a444-2482b9bb157f",
   "metadata": {},
   "outputs": [
    {
     "data": {
      "text/html": [
       "<div>\n",
       "<style scoped>\n",
       "    .dataframe tbody tr th:only-of-type {\n",
       "        vertical-align: middle;\n",
       "    }\n",
       "\n",
       "    .dataframe tbody tr th {\n",
       "        vertical-align: top;\n",
       "    }\n",
       "\n",
       "    .dataframe thead th {\n",
       "        text-align: right;\n",
       "    }\n",
       "</style>\n",
       "<table border=\"1\" class=\"dataframe\">\n",
       "  <thead>\n",
       "    <tr style=\"text-align: right;\">\n",
       "      <th></th>\n",
       "      <th>swe</th>\n",
       "      <th>x</th>\n",
       "      <th>y</th>\n",
       "      <th>date</th>\n",
       "    </tr>\n",
       "  </thead>\n",
       "  <tbody>\n",
       "    <tr>\n",
       "      <th>0</th>\n",
       "      <td>568.500000</td>\n",
       "      <td>741960.000000</td>\n",
       "      <td>4.326644e+06</td>\n",
       "      <td>2020-01-31</td>\n",
       "    </tr>\n",
       "    <tr>\n",
       "      <th>1</th>\n",
       "      <td>535.900000</td>\n",
       "      <td>747070.000000</td>\n",
       "      <td>4.322511e+06</td>\n",
       "      <td>2020-02-04</td>\n",
       "    </tr>\n",
       "    <tr>\n",
       "      <th>2</th>\n",
       "      <td>541.266667</td>\n",
       "      <td>741866.000000</td>\n",
       "      <td>4.324050e+06</td>\n",
       "      <td>2020-02-11</td>\n",
       "    </tr>\n",
       "    <tr>\n",
       "      <th>3</th>\n",
       "      <td>408.766667</td>\n",
       "      <td>742054.000000</td>\n",
       "      <td>4.324454e+06</td>\n",
       "      <td>2020-02-08</td>\n",
       "    </tr>\n",
       "    <tr>\n",
       "      <th>4</th>\n",
       "      <td>349.100000</td>\n",
       "      <td>747792.000000</td>\n",
       "      <td>4.323957e+06</td>\n",
       "      <td>2020-01-28</td>\n",
       "    </tr>\n",
       "    <tr>\n",
       "      <th>...</th>\n",
       "      <td>...</td>\n",
       "      <td>...</td>\n",
       "      <td>...</td>\n",
       "      <td>...</td>\n",
       "    </tr>\n",
       "    <tr>\n",
       "      <th>493</th>\n",
       "      <td>124.933333</td>\n",
       "      <td>570820.786742</td>\n",
       "      <td>4.842961e+06</td>\n",
       "      <td>2020-02-12</td>\n",
       "    </tr>\n",
       "    <tr>\n",
       "      <th>494</th>\n",
       "      <td>155.466667</td>\n",
       "      <td>570823.155458</td>\n",
       "      <td>4.842965e+06</td>\n",
       "      <td>2020-02-20</td>\n",
       "    </tr>\n",
       "    <tr>\n",
       "      <th>495</th>\n",
       "      <td>275.186667</td>\n",
       "      <td>570819.105448</td>\n",
       "      <td>4.842967e+06</td>\n",
       "      <td>2020-02-26</td>\n",
       "    </tr>\n",
       "    <tr>\n",
       "      <th>496</th>\n",
       "      <td>354.666667</td>\n",
       "      <td>570825.618469</td>\n",
       "      <td>4.842961e+06</td>\n",
       "      <td>2020-03-04</td>\n",
       "    </tr>\n",
       "    <tr>\n",
       "      <th>497</th>\n",
       "      <td>231.600000</td>\n",
       "      <td>570816.689587</td>\n",
       "      <td>4.842967e+06</td>\n",
       "      <td>2020-03-11</td>\n",
       "    </tr>\n",
       "  </tbody>\n",
       "</table>\n",
       "<p>498 rows × 4 columns</p>\n",
       "</div>"
      ],
      "text/plain": [
       "            swe              x             y        date\n",
       "0    568.500000  741960.000000  4.326644e+06  2020-01-31\n",
       "1    535.900000  747070.000000  4.322511e+06  2020-02-04\n",
       "2    541.266667  741866.000000  4.324050e+06  2020-02-11\n",
       "3    408.766667  742054.000000  4.324454e+06  2020-02-08\n",
       "4    349.100000  747792.000000  4.323957e+06  2020-01-28\n",
       "..          ...            ...           ...         ...\n",
       "493  124.933333  570820.786742  4.842961e+06  2020-02-12\n",
       "494  155.466667  570823.155458  4.842965e+06  2020-02-20\n",
       "495  275.186667  570819.105448  4.842967e+06  2020-02-26\n",
       "496  354.666667  570825.618469  4.842961e+06  2020-03-04\n",
       "497  231.600000  570816.689587  4.842967e+06  2020-03-11\n",
       "\n",
       "[498 rows x 4 columns]"
      ]
     },
     "execution_count": 4,
     "metadata": {},
     "output_type": "execute_result"
    }
   ],
   "source": [
    "df"
   ]
  },
  {
   "cell_type": "markdown",
   "id": "405eb4ea-43ca-41a3-b313-ba6518a2498d",
   "metadata": {},
   "source": [
    "#### PointData\n",
    "We want to retrieve snow depth and swe (maybe this is GPR swe). Every 1000 points (subselect)."
   ]
  },
  {
   "cell_type": "code",
   "execution_count": null,
   "id": "1e29978a-dfdd-49ad-b83c-6138a9f481f9",
   "metadata": {},
   "outputs": [],
   "source": [
    "# Pre-processing (just checking)\n",
    "qry = \"SELECT DISTINCT site_name FROM sites\" # Form a typical SQL query and use python to populate the table name\n",
    "results = engine.execute(qry) # Then we execute the sql command and collect the results\n",
    "out = ', '.join((row['site_name'] for row in results)) # Create a nice readable string to print the site names using python \n",
    "print(out + '\\n') # Create a nice readable string to print the site names using python \n",
    "\n",
    "# Get the unique datanames in the table\n",
    "results = session.query(PointData.type).distinct().all()\n",
    "print('Available types = {}'.format(', '.join([r[0] for r in results])))\n",
    "\n",
    "# Get the unique instruments in the table\n",
    "results = session.query(PointData.instrument).distinct().all()\n",
    "print('Available types = {}'.format(', '.join([str(r[0]) for r in results])))"
   ]
  },
  {
   "cell_type": "code",
   "execution_count": null,
   "id": "a9f53d7c-c33a-4b12-bcb6-fdc394774512",
   "metadata": {
    "tags": []
   },
   "outputs": [
    {
     "name": "stdout",
     "output_type": "stream",
     "text": [
      "0 170 records\n",
      "1 605 records\n",
      "2 3 records\n",
      "3 58 records\n",
      "4 608 records\n",
      "5 86 records\n",
      "6 605 records\n",
      "7 91 records\n",
      "8 2 records\n",
      "9 605 records\n",
      "10 2 records\n",
      "11 608 records\n",
      "12 3 records\n",
      "13 170 records\n",
      "14 91 records\n",
      "15 108 records\n",
      "16 3 records\n",
      "17 3 records\n"
     ]
    }
   ],
   "source": [
    "%%time\n",
    "\n",
    "full_values = []\n",
    "full_dates = []\n",
    "full_instruments = []\n",
    "full_latitudes = []\n",
    "full_longitudes = []\n",
    "full_elevations = []\n",
    "\n",
    "for i in range(len(np.unique(dates_list))):\n",
    "    # Pick a dataset\n",
    "    dataset = 'depth' #depth\n",
    "\n",
    "    # Site name\n",
    "    site_name = \"Grand Mesa\"\n",
    "\n",
    "    # Pick a date\n",
    "    collection_date = date(dates_list[i].year, dates_list[i].month, dates_list[i].day)\n",
    "\n",
    "    # Get a session\n",
    "    engine, session = get_db(db_name)\n",
    "\n",
    "    qry = session.query(PointData)\n",
    "    qry = qry.filter(PointData.type == dataset)\n",
    "    qry = qry.filter(PointData.date == collection_date)\n",
    "\n",
    "    # Execute the query and convert to geopandas in one handy function\n",
    "    df = query_to_geopandas(qry, engine)\n",
    "    # print(list(df.columns))\n",
    "    len_df = np.arange(len(df))\n",
    "    df2 = df[(len_df % 1000 == 1)]\n",
    "    \n",
    "    full_values.append(list(df2['value']))\n",
    "    full_dates.append(list(df2['date']))\n",
    "    full_instruments.append(list(df2['instrument']))\n",
    "    full_latitudes.append(list(df2['latitude']))\n",
    "    full_longitudes.append(list(df2['longitude']))\n",
    "    full_elevations.append(list(df2['elevation']))\n",
    "    \n",
    "    # how many did we retrieve?\n",
    "    print(i, f'{len(df2.index)} records')\n",
    "session.close()"
   ]
  },
  {
   "cell_type": "code",
   "execution_count": 14,
   "id": "a24d60b1-022f-48ad-8252-5547f10e503b",
   "metadata": {},
   "outputs": [
    {
     "name": "stdout",
     "output_type": "stream",
     "text": [
      "16146\n",
      "16146\n",
      "16146\n",
      "16146\n",
      "16146\n",
      "16146\n"
     ]
    }
   ],
   "source": [
    "# we flatten our list of lists\n",
    "flat_full_values = [x for xs in full_values for x in xs]; print(len(flat_full_values))\n",
    "flat_full_dates = [x for xs in full_dates for x in xs]; print(len(flat_full_dates))\n",
    "flat_full_instruments = [x for xs in full_instruments for x in xs]; print(len(flat_full_instruments))\n",
    "flat_full_latitudes = [x for xs in full_latitudes for x in xs]; print(len(flat_full_latitudes))\n",
    "flat_full_longitudes = [x for xs in full_longitudes for x in xs]; print(len(flat_full_longitudes))\n",
    "flat_full_elevations = [x for xs in full_elevations for x in xs]; print(len(flat_full_elevations))"
   ]
  },
  {
   "cell_type": "code",
   "execution_count": 15,
   "id": "0f629932-ef10-466f-bc05-8bf241a07901",
   "metadata": {},
   "outputs": [],
   "source": [
    "#change depth to SWE if saving SWE\n",
    "df_PointData = pd.DataFrame(list(zip(flat_full_values, flat_full_dates, flat_full_instruments, \n",
    "                                     flat_full_latitudes, flat_full_longitudes, flat_full_elevations)),\n",
    "               columns =['depth', 'date', 'instrument', 'latitude', 'longitude', 'elevation']) "
   ]
  },
  {
   "cell_type": "code",
   "execution_count": 16,
   "id": "3add59bb-5acc-4993-b9b6-f0209d037836",
   "metadata": {},
   "outputs": [
    {
     "data": {
      "text/html": [
       "<div>\n",
       "<style scoped>\n",
       "    .dataframe tbody tr th:only-of-type {\n",
       "        vertical-align: middle;\n",
       "    }\n",
       "\n",
       "    .dataframe tbody tr th {\n",
       "        vertical-align: top;\n",
       "    }\n",
       "\n",
       "    .dataframe thead th {\n",
       "        text-align: right;\n",
       "    }\n",
       "</style>\n",
       "<table border=\"1\" class=\"dataframe\">\n",
       "  <thead>\n",
       "    <tr style=\"text-align: right;\">\n",
       "      <th></th>\n",
       "      <th>SWE</th>\n",
       "      <th>date</th>\n",
       "      <th>instrument</th>\n",
       "      <th>latitude</th>\n",
       "      <th>longitude</th>\n",
       "      <th>elevation</th>\n",
       "    </tr>\n",
       "  </thead>\n",
       "  <tbody>\n",
       "    <tr>\n",
       "      <th>0</th>\n",
       "      <td>229.0</td>\n",
       "      <td>2020-01-31</td>\n",
       "      <td>Mala 800 MHz GPR</td>\n",
       "      <td>39.024950</td>\n",
       "      <td>-108.169552</td>\n",
       "      <td>3106.40</td>\n",
       "    </tr>\n",
       "    <tr>\n",
       "      <th>1</th>\n",
       "      <td>240.0</td>\n",
       "      <td>2020-01-31</td>\n",
       "      <td>Mala 800 MHz GPR</td>\n",
       "      <td>39.024962</td>\n",
       "      <td>-108.169678</td>\n",
       "      <td>3103.62</td>\n",
       "    </tr>\n",
       "    <tr>\n",
       "      <th>2</th>\n",
       "      <td>275.0</td>\n",
       "      <td>2020-01-31</td>\n",
       "      <td>Mala 800 MHz GPR</td>\n",
       "      <td>39.025108</td>\n",
       "      <td>-108.169702</td>\n",
       "      <td>3101.36</td>\n",
       "    </tr>\n",
       "    <tr>\n",
       "      <th>3</th>\n",
       "      <td>326.0</td>\n",
       "      <td>2020-01-31</td>\n",
       "      <td>Mala 800 MHz GPR</td>\n",
       "      <td>39.024778</td>\n",
       "      <td>-108.169581</td>\n",
       "      <td>3105.89</td>\n",
       "    </tr>\n",
       "    <tr>\n",
       "      <th>4</th>\n",
       "      <td>291.0</td>\n",
       "      <td>2020-01-31</td>\n",
       "      <td>Mala 800 MHz GPR</td>\n",
       "      <td>39.025262</td>\n",
       "      <td>-108.169362</td>\n",
       "      <td>3106.17</td>\n",
       "    </tr>\n",
       "  </tbody>\n",
       "</table>\n",
       "</div>"
      ],
      "text/plain": [
       "     SWE        date        instrument   latitude   longitude  elevation\n",
       "0  229.0  2020-01-31  Mala 800 MHz GPR  39.024950 -108.169552    3106.40\n",
       "1  240.0  2020-01-31  Mala 800 MHz GPR  39.024962 -108.169678    3103.62\n",
       "2  275.0  2020-01-31  Mala 800 MHz GPR  39.025108 -108.169702    3101.36\n",
       "3  326.0  2020-01-31  Mala 800 MHz GPR  39.024778 -108.169581    3105.89\n",
       "4  291.0  2020-01-31  Mala 800 MHz GPR  39.025262 -108.169362    3106.17"
      ]
     },
     "execution_count": 16,
     "metadata": {},
     "output_type": "execute_result"
    }
   ],
   "source": [
    "df_PointData.head()"
   ]
  },
  {
   "cell_type": "code",
   "execution_count": 17,
   "id": "427620ef-c260-4379-a24d-0f5502797924",
   "metadata": {},
   "outputs": [],
   "source": [
    "# saving our dataframe so that we do not need to load it everytime\n",
    "# df_PointData.to_pickle(\"PointData_SWE.pkl\")\n",
    "df_PointData.to_pickle(\"PointData_depth.pkl\")"
   ]
  },
  {
   "cell_type": "markdown",
   "id": "b51e9f86-339c-417a-9a4b-94414b258cf3",
   "metadata": {},
   "source": [
    "#### Matching LayerData and PointData"
   ]
  },
  {
   "cell_type": "code",
   "execution_count": 18,
   "id": "e134f7bb-feb1-4681-8fad-8cb9b106d6bc",
   "metadata": {},
   "outputs": [
    {
     "name": "stdout",
     "output_type": "stream",
     "text": [
      "         SWE        date         instrument   latitude   longitude  elevation\n",
      "0      229.0  2020-01-31   Mala 800 MHz GPR  39.024950 -108.169552    3106.40\n",
      "1      240.0  2020-01-31   Mala 800 MHz GPR  39.024962 -108.169678    3103.62\n",
      "2      275.0  2020-01-31   Mala 800 MHz GPR  39.025108 -108.169702    3101.36\n",
      "3      326.0  2020-01-31   Mala 800 MHz GPR  39.024778 -108.169581    3105.89\n",
      "4      291.0  2020-01-31   Mala 800 MHz GPR  39.025262 -108.169362    3106.17\n",
      "...      ...         ...                ...        ...         ...        ...\n",
      "16141  203.0  2020-02-04  Mala 1600 MHz GPR  39.031349 -108.139465    3147.60\n",
      "16142  216.0  2020-02-04  Mala 1600 MHz GPR  39.030843 -108.139429    3143.02\n",
      "16143  161.0  2020-02-04  Mala 1600 MHz GPR  39.031217 -108.139108    3141.90\n",
      "16144  237.0  2020-02-04  Mala 1600 MHz GPR  39.031177 -108.139100    3141.01\n",
      "16145  273.0  2020-02-04  Mala 1600 MHz GPR  39.031174 -108.138983    3141.70\n",
      "\n",
      "[16146 rows x 6 columns]\n"
     ]
    }
   ],
   "source": [
    "PointData_SWE = pd.read_pickle(\"PointData_SWE.pkl\")\n",
    "print(PointData_SWE)"
   ]
  },
  {
   "cell_type": "code",
   "execution_count": null,
   "id": "0b63e2ed-1541-469a-84c8-d1e8c36a7720",
   "metadata": {},
   "outputs": [],
   "source": [
    "PointData_depth = pd.read_pickle(\"PointData_depth.pkl\")\n",
    "print(PointData_depth)"
   ]
  }
 ],
 "metadata": {
  "kernelspec": {
   "display_name": "Python 3 (ipykernel)",
   "language": "python",
   "name": "python3"
  },
  "language_info": {
   "codemirror_mode": {
    "name": "ipython",
    "version": 3
   },
   "file_extension": ".py",
   "mimetype": "text/x-python",
   "name": "python",
   "nbconvert_exporter": "python",
   "pygments_lexer": "ipython3",
   "version": "3.10.5"
  }
 },
 "nbformat": 4,
 "nbformat_minor": 5
}
